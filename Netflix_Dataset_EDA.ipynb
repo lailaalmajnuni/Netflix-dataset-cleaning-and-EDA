{
 "cells": [
  {
   "cell_type": "code",
   "execution_count": null,
   "id": "87352118",
   "metadata": {},
   "outputs": [],
   "source": [
    "import numpy as np \n",
    "import pandas as pd \n",
    "import matplotlib.pyplot as plt\n",
    "import seaborn as sns"
   ]
  },
  {
   "cell_type": "markdown",
   "id": "4163f28a",
   "metadata": {},
   "source": [
    "## Loading Datasets"
   ]
  },
  {
   "cell_type": "code",
   "execution_count": null,
   "id": "14e11237",
   "metadata": {
    "scrolled": true
   },
   "outputs": [],
   "source": [
    "#12 columns X 8807\n",
    "netflix = pd.read_csv ('/Users/lailaalmajnuni/Downloads/EDA/netflix_titles.csv', \n",
    "                       skipinitialspace = True)\n",
    "\n",
    "#loading only 2 columns out of 49 X 85855\n",
    "votes = pd.read_csv ('/Users/lailaalmajnuni/Downloads/EDA/IMDb_ratings.csv', skipinitialspace = True, \n",
    "                       usecols=['weighted_average_vote', 'imdb_title_id'])\n",
    "#votes.info()\n",
    "\n",
    "#loading 2 columns out of 22 X 85855\n",
    "names = pd.read_csv ('/Users/lailaalmajnuni/Downloads/EDA/IMDb_movies.csv', skipinitialspace = True,\n",
    "                     usecols=['original_title', 'imdb_title_id'])\n",
    "#names.info()\n",
    "names.head(10)"
   ]
  },
  {
   "cell_type": "markdown",
   "id": "e963f6d5",
   "metadata": {},
   "source": [
    "## Joining IMDb Datasets"
   ]
  },
  {
   "cell_type": "code",
   "execution_count": null,
   "id": "874775bf",
   "metadata": {},
   "outputs": [],
   "source": [
    "netflix['title'].str.strip()\n",
    "netflix['title'].str.lower()\n",
    "names['original_title'].str.strip()\n",
    "names['original_title'].str.lower()\n",
    "\n",
    "joined_IMDb = pd.merge(votes, names, how ='inner', on =['imdb_title_id'])\n",
    "joined_IMDb.drop(['imdb_title_id'], axis = 1, inplace = True)\n",
    "joined_IMDb.rename(columns = {'original_title':'title'}, inplace=True)\n",
    "#joined_IMDb.info()"
   ]
  },
  {
   "cell_type": "markdown",
   "id": "ef3c3b2d",
   "metadata": {},
   "source": [
    "## Your Final Dataset To Work With\n",
    "##### Joining the IMDb dataset with the Netflix dataset and clean the data\n"
   ]
  },
  {
   "cell_type": "code",
   "execution_count": null,
   "id": "ee8436bc",
   "metadata": {},
   "outputs": [],
   "source": [
    "inner_final = pd.merge(joined_IMDb, netflix, how = 'inner', on =['title'])\n",
    "inner_final.rename(columns = {'listed_in':'genre'}, inplace=True)\n",
    "inner_final.rename(columns = {'weighted_average_vote':'votes'}, inplace=True)\n",
    "\n",
    "inner_final.drop(['show_id', 'director', 'cast', 'description', 'duration'], \n",
    "                 axis = 1, inplace = True)\n",
    "inner_final.drop_duplicates(subset=['title'], inplace=True)\n",
    "\n",
    "inner_final.country.fillna(\"Country Unavailable\", inplace=True)\n",
    "\n",
    "inner_final.dropna(subset=[\"rating\"], inplace=True)\n",
    "inner_final.sort_values('votes', inplace=True)\n",
    "inner_final.info()\n",
    "#final dataset has a size of 8 X 3177"
   ]
  },
  {
   "cell_type": "markdown",
   "id": "1cad7670",
   "metadata": {},
   "source": [
    "## Just to get a sense of the data distribution"
   ]
  },
  {
   "cell_type": "code",
   "execution_count": null,
   "id": "43f1ba57",
   "metadata": {},
   "outputs": [],
   "source": [
    "inner_final.hist(column='votes', color = '#9458D6')\n",
    "#votes are normally distributed\n",
    "\n",
    "plt.title('Rating Distribution of Netflix Content', fontsize = 18, fontweight = 'bold')\n",
    "plt.xlabel('Rating out of 10', fontsize = 15, fontweight = 'bold')\n",
    "plt.ylabel('Count of Rating', fontsize = 15, fontweight = 'bold')\n",
    "plt.xticks(fontsize = 10)\n",
    "plt.yticks(fontsize = 10)\n",
    "plt.figure(figsize=(15,15))\n",
    "\n",
    "plt.savefig('Votes.png')"
   ]
  },
  {
   "cell_type": "code",
   "execution_count": null,
   "id": "17beb8a6",
   "metadata": {},
   "outputs": [],
   "source": [
    "inner_final.hist(column='release_year', color = '#CC5D8B')\n",
    "#release year is exponentially distributed\n",
    "\n",
    "\n",
    "plt.title('Added Content by Year Distribution', fontsize = 18, fontweight = 'bold')\n",
    "plt.xlabel('Years', fontsize = 15, fontweight = 'bold')\n",
    "plt.ylabel('Count of Content per Year', fontsize = 15, fontweight = 'bold')\n",
    "plt.xticks(fontsize = 10)\n",
    "plt.yticks(fontsize = 10)\n",
    "plt.figure(figsize=(15,15))\n",
    "\n",
    "plt.savefig('Year.png')"
   ]
  },
  {
   "cell_type": "markdown",
   "id": "3ec603ab",
   "metadata": {},
   "source": [
    "## Country-wise Diversity"
   ]
  },
  {
   "cell_type": "code",
   "execution_count": null,
   "id": "9ac16cbd",
   "metadata": {},
   "outputs": [],
   "source": [
    "country_wise =( inner_final.set_index('title').country.str.split(', ', expand=True).stack()\n",
    "                .reset_index(level=1, drop=True) )\n",
    "country_wise = country_wise[country_wise != 'Country Unavailable']\n",
    "\n",
    "plt.figure(figsize=(20,10))\n",
    "\n",
    "plt.title('Top 5 Countries by Content on Netflix', fontsize = 30, fontweight = 'bold')\n",
    "\n",
    "Country_wise = sns.countplot(x = country_wise, order=country_wise.value_counts().index[:5])\n",
    "\n",
    "plt.xlabel('Country', fontsize = 25, fontweight = 'bold')\n",
    "plt.ylabel('Count of Content', fontsize = 25, fontweight = 'bold')\n",
    "plt.xticks(fontsize = 20)\n",
    "plt.yticks(fontsize = 20)\n",
    "\n",
    "plt.savefig('Country_wise.png')"
   ]
  },
  {
   "cell_type": "markdown",
   "id": "056d6c96",
   "metadata": {},
   "source": [
    "## TV Shows Vs. Movies"
   ]
  },
  {
   "cell_type": "code",
   "execution_count": null,
   "id": "67416a3a",
   "metadata": {},
   "outputs": [],
   "source": [
    "inner_final['type'].isnull().sum()\n",
    "\n",
    "plt.figure(figsize=(10, 10))\n",
    "mycolors = ['#FF9F9F', '#A09FFF']\n",
    "\n",
    "TM = plt.pie(inner_final.type.value_counts(), \n",
    "        labels = inner_final.type.value_counts().index,\n",
    "        autopct = lambda x: '{:.1f} % ({:.0f})'.format(x,(x/100)*inner_final['type'].count()),\n",
    "        textprops = {'fontsize': 24}, colors = mycolors)\n",
    "\n",
    "plt.savefig('TM.png')"
   ]
  },
  {
   "cell_type": "markdown",
   "id": "add50bda",
   "metadata": {},
   "source": [
    "## When is it the best month to subscribe?"
   ]
  },
  {
   "cell_type": "code",
   "execution_count": null,
   "id": "33db4a14",
   "metadata": {},
   "outputs": [],
   "source": [
    "netflix_date = inner_final.dropna(subset=['date_added'])\n",
    "netflix_date['year'] = netflix_date['date_added'].apply(lambda x : x.split(', ')[-1])\n",
    "netflix_date['month'] = netflix_date['date_added'].apply(lambda x : x.lstrip().split(' ')[0])\n",
    "netflix_date = netflix_date.astype({'year' : int})\n",
    "netflix_date = netflix_date[netflix_date.year > 2017] \n",
    "netflix_date = netflix_date[netflix_date.year < 2021]\n",
    "\n",
    "plt.figure(figsize=(15, 15))\n",
    "plt.title('Which Month to Subscribe?', fontsize = 24,\n",
    "         fontweight = 'bold')\n",
    "sns.set(style=\"darkgrid\")\n",
    "\n",
    "When = sns.countplot(x = 'month', data = netflix_date, \n",
    "                  order = netflix_date['month'].value_counts().index, palette = 'pastel')\n",
    "\n",
    "plt.xlabel('Month', fontsize = 20, fontweight = 'bold')\n",
    "plt.ylabel('Number of Listed Shows', fontsize = 20, fontweight = 'bold')\n",
    "plt.xticks(fontsize = 16)\n",
    "plt.yticks(fontsize = 16)\n",
    "\n",
    "plt.savefig('When.png')"
   ]
  },
  {
   "cell_type": "markdown",
   "id": "a07148c1",
   "metadata": {},
   "source": [
    "## 10 Most common Genres on Netflix"
   ]
  },
  {
   "cell_type": "code",
   "execution_count": null,
   "id": "4af9c19a",
   "metadata": {},
   "outputs": [],
   "source": [
    "#spliting the genre column because is has a string of multiple genres.\n",
    "filtering_genre =( inner_final.drop('genre', axis = 1)\n",
    "            .join(inner_final['genre'].str.split(', ', expand = True)\n",
    "                  .stack().reset_index(level = 1, drop = True).rename('genre')))\n",
    "\n",
    "plt.figure(figsize=(12, 8))\n",
    "plt.title('10 Most Common Genres on Netflix', fontsize = 24,\n",
    "         fontweight = 'bold')\n",
    "sns.set(style=\"darkgrid\")\n",
    "\n",
    "Common_Genre = sns.countplot(y = 'genre', order = filtering_genre.genre.value_counts().index[:10], \n",
    "                   data = filtering_genre, palette = 'Spectral')\n",
    "\n",
    "plt.xlabel('Number of Listed Shows', fontsize = 20)\n",
    "plt.ylabel('Genres', fontsize = 20)\n",
    "plt.xticks(fontsize = 16)\n",
    "plt.yticks(fontsize = 16)\n",
    "\n",
    "plt.savefig('Common_Genre.png')"
   ]
  },
  {
   "cell_type": "markdown",
   "id": "4d56104a",
   "metadata": {},
   "source": [
    "## Removing the first two quantile\n",
    "#### only 50% of the dataset with the higher rating with the top 10 genres because we need the maxima that means these shows are great"
   ]
  },
  {
   "cell_type": "code",
   "execution_count": null,
   "id": "51b082aa",
   "metadata": {
    "scrolled": true
   },
   "outputs": [],
   "source": [
    "df = filtering_genre\n",
    "df = df.loc[df.genre.isin(['Dramas', 'International Movies', 'Comedies', 'Independent Movies', 'Action & Adventure',\n",
    "                          'Thrillers', 'Romantic Movies'])]\n",
    "lower_quantile , upper_quantile = df.votes.quantile([.5, 1])\n",
    "top_five = df.loc[(df.votes > lower_quantile)]\n",
    "print(top_five.groupby('genre').agg(['min', 'max', 'median', 'mean', 'std', 'count']))\n"
   ]
  },
  {
   "cell_type": "markdown",
   "id": "833a9840",
   "metadata": {},
   "source": [
    "## Ploting the rating boxplot\n",
    "#### to see if there is difference on the avrege across genres"
   ]
  },
  {
   "cell_type": "code",
   "execution_count": null,
   "id": "211ec8a2",
   "metadata": {},
   "outputs": [],
   "source": [
    "plt.figure(figsize=(30, 20))\n",
    "plt.title('Avrage Vewiers Rating of the 7 Most \\nListed Genres On Netflix', fontsize = 35,\n",
    "         fontweight = 'bold')\n",
    "sns.set(style=\"darkgrid\")\n",
    "plt.ylim(5, 10)\n",
    "\n",
    "Rating_Genre = sns.boxplot(y = 'votes', x = 'genre', data = top_five, palette = 'colorblind')\n",
    "\n",
    "plt.xlabel('Genres', fontsize = 30, fontweight = 'bold')\n",
    "plt.ylabel('Avrage Ratings', fontsize = 30, fontweight = 'bold')\n",
    "plt.xticks(fontsize = 28)\n",
    "plt.yticks(fontsize = 28)\n",
    "\n",
    "plt.savefig('Rating_Genre.png')"
   ]
  },
  {
   "cell_type": "markdown",
   "id": "aff68670",
   "metadata": {},
   "source": [
    "## Recommendations"
   ]
  },
  {
   "cell_type": "code",
   "execution_count": null,
   "id": "2fefdcc8",
   "metadata": {},
   "outputs": [],
   "source": [
    "df['release_year'] = df.release_year.astype('float')\n",
    "\n",
    "firstfilter = df.loc[df['release_year'] > 2015]\n",
    "secondfilter = firstfilter.loc[firstfilter['country'] != 'India']\n",
    "recommendations = secondfilter.groupby('genre', \n",
    "                                       group_keys = False).apply(pd.DataFrame.nlargest,\n",
    "                                                                 n = 3, columns = 'votes')\n",
    "print(recommendations)"
   ]
  }
 ],
 "metadata": {
  "kernelspec": {
   "display_name": "Python 3",
   "language": "python",
   "name": "python3"
  },
  "language_info": {
   "codemirror_mode": {
    "name": "ipython",
    "version": 3
   },
   "file_extension": ".py",
   "mimetype": "text/x-python",
   "name": "python",
   "nbconvert_exporter": "python",
   "pygments_lexer": "ipython3",
   "version": "3.8.8"
  }
 },
 "nbformat": 4,
 "nbformat_minor": 5
}
